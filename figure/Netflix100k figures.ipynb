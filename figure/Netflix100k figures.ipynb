{
 "cells": [
  {
   "cell_type": "code",
   "execution_count": 27,
   "metadata": {
    "collapsed": false
   },
   "outputs": [],
   "source": [
    "%matplotlib inline\n",
    "import seaborn as sns\n",
    "import numpy as np\n",
    "import pandas as pd\n",
    "import matplotlib.pyplot as plt\n",
    "from collections import Counter\n",
    "import matplotlib.patches as mpatches\n",
    "import matplotlib, collections\n",
    "from scipy.stats import norm\n",
    "import imp, os, pickle\n",
    "from sklearn.metrics.pairwise import pairwise_distances\n",
    "import warnings\n",
    "from matplotlib import collections  as mc\n",
    "warnings.filterwarnings(\"ignore\")\n",
    "sns.set(style=\"darkgrid\")\n",
    "colors = [\"#9b59b6\", \"#3498db\", \"#95a5a6\", \"#e74c3c\", \"#34495e\", \"#2ecc71\"]\n"
   ]
  },
  {
   "cell_type": "code",
   "execution_count": 32,
   "metadata": {
    "collapsed": false
   },
   "outputs": [],
   "source": [
    "random_folder = '../experiments/netflix100k/rand/'\n",
    "truths = np.zeros((313,))\n",
    "best_arm = 22420\n",
    "for flname in os.listdir(random_folder):\n",
    "    if not flname.endswith('.pkl'):\n",
    "        continue\n",
    "    with open(random_folder+flname,'rb') as f:\n",
    "        x=pickle.load(f)\n",
    "        truths += [z[0]==best_arm for z in x]    \n",
    "\n",
    "truths = np.array(truths)/(len(os.listdir(random_folder))+0.0)"
   ]
  },
  {
   "cell_type": "code",
   "execution_count": 34,
   "metadata": {
    "collapsed": false,
    "scrolled": true
   },
   "outputs": [
    {
     "name": "stdout",
     "output_type": "stream",
     "text": [
      "369\n",
      "24.pkl 16.pkl 136.pkl 128.pkl 192.pkl 120.pkl 168.pkl 240.pkl 144.pkl 112.pkl 184.pkl 32.pkl 56.pkl 72.pkl 40.pkl 216.pkl 96.pkl 232.pkl 80.pkl 152.pkl 176.pkl 8.pkl 104.pkl 64.pkl 208.pkl 160.pkl 200.pkl 248.pkl 88.pkl 48.pkl 0.pkl 224.pkl 121.pkl 17.pkl 193.pkl 241.pkl 25.pkl 33.pkl 209.pkl 65.pkl 129.pkl 153.pkl 137.pkl 185.pkl 97.pkl 41.pkl 9.pkl 177.pkl 169.pkl 145.pkl 161.pkl 73.pkl 81.pkl 233.pkl 201.pkl 113.pkl 105.pkl 1.pkl 249.pkl 89.pkl 217.pkl 225.pkl 57.pkl 49.pkl 194.pkl 130.pkl 242.pkl 210.pkl 18.pkl 234.pkl 42.pkl 66.pkl 154.pkl 162.pkl 26.pkl 98.pkl 34.pkl 10.pkl 82.pkl 178.pkl 106.pkl 138.pkl 122.pkl 74.pkl 202.pkl 170.pkl 146.pkl 186.pkl 250.pkl 114.pkl 2.pkl 90.pkl 218.pkl 58.pkl 226.pkl 50.pkl 131.pkl 243.pkl 211.pkl 195.pkl 235.pkl 19.pkl 163.pkl 155.pkl 83.pkl 27.pkl 43.pkl 203.pkl 99.pkl 123.pkl 139.pkl 67.pkl 11.pkl 115.pkl 187.pkl 179.pkl 107.pkl 35.pkl 171.pkl 251.pkl 75.pkl 91.pkl 147.pkl 3.pkl 219.pkl 59.pkl 132.pkl 227.pkl 51.pkl 244.pkl 196.pkl 164.pkl 236.pkl 100.pkl 212.pkl 20.pkl 156.pkl 28.pkl 84.pkl 188.pkl 12.pkl 68.pkl 124.pkl 4.pkl 204.pkl 44.pkl 108.pkl 76.pkl 180.pkl 140.pkl 220.pkl 252.pkl 148.pkl 172.pkl 116.pkl 36.pkl 60.pkl 92.pkl 133.pkl 197.pkl 101.pkl 245.pkl 165.pkl 52.pkl 228.pkl 157.pkl 237.pkl 213.pkl 29.pkl 221.pkl 21.pkl 85.pkl 189.pkl 69.pkl 125.pkl 181.pkl 5.pkl 13.pkl 77.pkl 109.pkl 45.pkl 117.pkl 253.pkl 141.pkl 37.pkl 149.pkl 61.pkl 205.pkl 173.pkl 198.pkl 134.pkl 93.pkl 53.pkl 246.pkl 214.pkl 102.pkl 166.pkl 238.pkl 22.pkl 6.pkl 182.pkl 222.pkl 229.pkl 158.pkl 86.pkl 70.pkl 126.pkl 14.pkl 30.pkl 38.pkl 254.pkl 110.pkl 150.pkl 118.pkl 174.pkl 78.pkl 190.pkl 46.pkl 199.pkl 135.pkl 206.pkl 142.pkl 54.pkl 103.pkl 62.pkl 94.pkl 167.pkl 7.pkl 239.pkl 215.pkl 87.pkl 183.pkl 71.pkl 230.pkl 15.pkl 223.pkl 127.pkl 111.pkl 247.pkl 159.pkl 175.pkl 39.pkl 31.pkl 23.pkl 255.pkl 256.pkl 151.pkl 191.pkl 79.pkl 264.pkl 119.pkl 47.pkl 207.pkl 143.pkl 272.pkl 95.pkl 280.pkl 288.pkl 304.pkl 55.pkl 63.pkl 328.pkl 296.pkl 320.pkl 312.pkl 376.pkl 344.pkl 336.pkl 400.pkl 368.pkl 231.pkl 424.pkl 257.pkl 384.pkl 360.pkl 416.pkl 408.pkl 392.pkl 432.pkl 448.pkl 440.pkl 265.pkl 472.pkl 464.pkl 480.pkl 352.pkl 456.pkl 273.pkl 321.pkl 488.pkl 305.pkl 297.pkl 496.pkl 281.pkl 289.pkl 345.pkl 385.pkl 329.pkl 377.pkl 409.pkl 369.pkl 441.pkl 258.pkl 313.pkl 504.pkl 361.pkl 425.pkl 417.pkl 401.pkl 393.pkl 449.pkl 465.pkl 337.pkl 266.pkl 433.pkl 481.pkl 457.pkl 298.pkl 306.pkl 282.pkl 386.pkl 378.pkl 473.pkl 442.pkl 489.pkl 322.pkl 290.pkl 274.pkl 314.pkl 410.pkl 370.pkl 346.pkl 330.pkl 497.pkl 353.pkl 259.pkl 505.pkl 362.pkl 426.pkl 402.pkl 466.pkl 394.pkl 267.pkl 450.pkl 338.pkl 418.pkl 482.pkl 299.pkl 434.pkl 307.pkl 371.pkl 458.pkl 387.pkl 379.pkl 443.pkl 490.pkl 474.pkl 498.pkl 283.pkl 411.pkl 403.pkl 354.pkl 315.pkl 331.pkl 506.pkl 260.pkl 363.pkl 275.pkl 427.pkl\n"
     ]
    }
   ],
   "source": [
    "\n",
    "mab_folder = '/data/medoid_bandit/E18_Mice/computed_values/new_netflix_100k/mab/'\n",
    "mab = []\n",
    "m = 12000\n",
    "for flname in os.listdir(mab_folder):\n",
    "    try:\n",
    "        with open(mab_folder+flname,'rb') as f:\n",
    "            x=pickle.load(f)\n",
    "            answer = x[0][:np.where(x[0]==0)[0][0]]\n",
    "            mab += [np.pad(answer==best_arm, (0,m-len(answer)), 'edge')]    \n",
    "    except Exception as e:\n",
    "        print \"Exception\", e, flname\n",
    "        \n",
    "mab_error = 1-np.array(mab).mean(axis=0)\n",
    "mab_arm = 32+np.arange(0, mab_error.shape[0])*32*32/100000.0"
   ]
  },
  {
   "cell_type": "code",
   "execution_count": null,
   "metadata": {
    "collapsed": false
   },
   "outputs": [],
   "source": [
    "print len(mab)\n",
    "mab_avg_stopping_time = 500\n",
    "fig = plt.figure(figsize=(10,10))\n",
    "sns.set(font_scale = 2)\n",
    "xaxis = np.arange(len(truths))*32\n",
    "mab_arm[-1] = xaxis[-1]\n",
    "plt.plot(xaxis, 1-truths, label='RAND', color=colors[0])\n",
    "plt.fill_between(xaxis, 1-truths,0, color=colors[0], alpha=0.08)\n",
    "plt.plot(mab_arm, mab_error, label='$Med-dit$',  color=colors[-1])\n",
    "plt.fill_between(mab_arm, mab_error,0,  color=colors[-1],alpha=0.12)\n",
    "plt.axvline(mab_avg_stopping_time, linestyle='--', lw=1, color=colors[-1], label=\"Stopping time \")\n",
    "plt.legend(prop={'size': 30})\n",
    "plt.xlabel('average number of pulls per arm')\n",
    "plt.ylabel('probability of error')\n",
    "plt.xlim((30,700))\n",
    "# plt.ylim((0,0.7))\n",
    "plt.show()"
   ]
  },
  {
   "cell_type": "code",
   "execution_count": null,
   "metadata": {
    "collapsed": true
   },
   "outputs": [],
   "source": []
  }
 ],
 "metadata": {
  "kernelspec": {
   "display_name": "Python 2",
   "language": "python",
   "name": "python2"
  },
  "language_info": {
   "codemirror_mode": {
    "name": "ipython",
    "version": 2
   },
   "file_extension": ".py",
   "mimetype": "text/x-python",
   "name": "python",
   "nbconvert_exporter": "python",
   "pygments_lexer": "ipython2",
   "version": "2.7.12"
  }
 },
 "nbformat": 4,
 "nbformat_minor": 2
}
