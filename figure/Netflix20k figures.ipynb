{
 "cells": [
  {
   "cell_type": "code",
   "execution_count": 1,
   "metadata": {
    "collapsed": false
   },
   "outputs": [],
   "source": [
    "%matplotlib inline\n",
    "import seaborn as sns\n",
    "import numpy as np\n",
    "import pandas as pd\n",
    "import matplotlib.pyplot as plt\n",
    "from collections import Counter\n",
    "import matplotlib.patches as mpatches\n",
    "import matplotlib, collections\n",
    "from scipy.stats import norm\n",
    "import imp, os, pickle\n",
    "from sklearn.metrics.pairwise import pairwise_distances\n",
    "import warnings\n",
    "from matplotlib import collections  as mc\n",
    "warnings.filterwarnings(\"ignore\")\n",
    "sns.set(style=\"darkgrid\")\n",
    "colors = [\"#9b59b6\", \"#3498db\", \"#95a5a6\", \"#e74c3c\", \"#34495e\", \"#2ecc71\"]\n"
   ]
  },
  {
   "cell_type": "markdown",
   "metadata": {},
   "source": [
    "## Loading experiments and performance evaluation"
   ]
  },
  {
   "cell_type": "code",
   "execution_count": null,
   "metadata": {
    "collapsed": false,
    "scrolled": true
   },
   "outputs": [],
   "source": [
    "random_folder = '../experiments/netflix20k/rand/'\n",
    "truths = np.zeros((157,))\n",
    "best_arm = 18960\n",
    "for flname in os.listdir(random_folder):\n",
    "    if not flname.endswith('.pkl'):\n",
    "        continue\n",
    "    with open(random_folder+flname,'rb') as f:\n",
    "        x=pickle.load(f)\n",
    "        truths += [z[0]==best_arm for z in x]    \n",
    "\n",
    "truths = np.array(truths)/(len(os.listdir(random_folder))+0.0)\n",
    "mab_folder = '../experiments/netflix20k/meddit/'\n",
    "mab = []\n",
    "m = 15000\n",
    "print len(os.listdir(mab_folder))\n",
    "for flname in os.listdir(mab_folder):\n",
    "    try:\n",
    "        with open(mab_folder+flname,'rb') as f:\n",
    "            x=pickle.load(f)\n",
    "            answer = x[0][:np.where(x[0]==0)[0][0]]\n",
    "            mab += [np.pad(answer==best_arm, (0,m-len(answer)), 'edge')]    \n",
    "    except:\n",
    "        print \"Wrong exp\", flname\n",
    "        \n",
    "mab_error = 1-np.array(mab).mean(axis=0)\n",
    "mab_arm = 32+np.arange(0, mab_error.shape[0])*32*32/20000.0"
   ]
  },
  {
   "cell_type": "code",
   "execution_count": null,
   "metadata": {
    "collapsed": false
   },
   "outputs": [],
   "source": [
    "print len(mab)\n",
    "mab_avg_stopping_time = 300\n",
    "fig = plt.figure(figsize=(10,10))\n",
    "sns.set(font_scale = 2)\n",
    "xaxis = np.arange(len(truths))*32\n",
    "mab_arm[-1] = xaxis[-1]\n",
    "plt.plot(xaxis, 1-truths, label='RAND', color=colors[0])\n",
    "plt.fill_between(xaxis, 1-truths,0, color=colors[0], alpha=0.08)\n",
    "plt.plot(mab_arm, mab_error, label='$Med-dit$',  color=colors[-1])\n",
    "plt.fill_between(mab_arm, mab_error,0,  color=colors[-1],alpha=0.12)\n",
    "plt.axvline(mab_avg_stopping_time, linestyle='--', lw=1, color=colors[-1], label=\"Stopping time \")\n",
    "plt.legend(prop={'size': 30})\n",
    "plt.xlabel('average number of pulls per arm')\n",
    "plt.ylabel('probability of error')\n",
    "# plt.xlim((30,5000))\n",
    "# plt.ylim((0,0.7))\n",
    "plt.show()"
   ]
  },
  {
   "cell_type": "code",
   "execution_count": null,
   "metadata": {
    "collapsed": true
   },
   "outputs": [],
   "source": []
  }
 ],
 "metadata": {
  "kernelspec": {
   "display_name": "Python 2",
   "language": "python",
   "name": "python2"
  },
  "language_info": {
   "codemirror_mode": {
    "name": "ipython",
    "version": 2
   },
   "file_extension": ".py",
   "mimetype": "text/x-python",
   "name": "python",
   "nbconvert_exporter": "python",
   "pygments_lexer": "ipython2",
   "version": "2.7.12"
  }
 },
 "nbformat": 4,
 "nbformat_minor": 2
}
