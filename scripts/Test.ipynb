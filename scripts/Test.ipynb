{
 "cells": [
  {
   "cell_type": "code",
   "execution_count": 1,
   "metadata": {
    "collapsed": false
   },
   "outputs": [],
   "source": [
    "# import modules, define some functions for loading, saving and processing a gene-barcode matrix\n",
    "import collections\n",
    "import matplotlib\n",
    "from sklearn.metrics.pairwise import pairwise_distances\n",
    "import matplotlib.pyplot as plt\n",
    "import numpy as np\n",
    "import pandas as pd\n",
    "import scipy.sparse as sp_sparse\n",
    "import tables, h5py\n",
    "import pickle, time\n",
    "from multiprocessing import Pool, Array, Process\n",
    "import ctypes as c\n",
    "import cProfile, os\n",
    "import logging, imp\n",
    "from PIL import Image\n",
    "import os,binascii, datetime\n",
    "import imp\n",
    "import helper\n",
    "from tensorflow.examples.tutorials.mnist import input_data\n",
    "logging.basicConfig(level=logging.DEBUG,format='(%(threadName)-10s) %(message)s',)\n",
    "import algorithm, helper, data_loader\n"
   ]
  },
  {
   "cell_type": "code",
   "execution_count": 2,
   "metadata": {
    "collapsed": false
   },
   "outputs": [
    {
     "data": {
      "text/plain": [
       "<module 'data_loader' from 'data_loader.pyc'>"
      ]
     },
     "execution_count": 2,
     "metadata": {},
     "output_type": "execute_result"
    }
   ],
   "source": [
    "imp.reload(data_loader)"
   ]
  },
  {
   "cell_type": "code",
   "execution_count": 3,
   "metadata": {
    "collapsed": false
   },
   "outputs": [
    {
     "name": "stdout",
     "output_type": "stream",
     "text": [
      "(20000, 17769)\n"
     ]
    }
   ],
   "source": [
    "data1 = data_loader.load_netflix20k()\n",
    "print data1.shape"
   ]
  },
  {
   "cell_type": "code",
   "execution_count": 4,
   "metadata": {
    "collapsed": false
   },
   "outputs": [
    {
     "name": "stdout",
     "output_type": "stream",
     "text": [
      "(100000, 17769)\n"
     ]
    }
   ],
   "source": [
    "data2 = data_loader.load_netflix100k()\n",
    "print data2.shape"
   ]
  },
  {
   "cell_type": "code",
   "execution_count": 5,
   "metadata": {
    "collapsed": false
   },
   "outputs": [
    {
     "name": "stdout",
     "output_type": "stream",
     "text": [
      "(20000, 27998)\n"
     ]
    }
   ],
   "source": [
    "data3 = data_loader.load_rnaseq20k()\n",
    "print data3.shape"
   ]
  },
  {
   "cell_type": "code",
   "execution_count": 6,
   "metadata": {
    "collapsed": false
   },
   "outputs": [
    {
     "name": "stdout",
     "output_type": "stream",
     "text": [
      "(109140, 27998)\n"
     ]
    }
   ],
   "source": [
    "data4 = data_loader.load_rnaseq100k()\n",
    "print data4.shape"
   ]
  },
  {
   "cell_type": "code",
   "execution_count": null,
   "metadata": {
    "collapsed": true
   },
   "outputs": [],
   "source": []
  }
 ],
 "metadata": {
  "kernelspec": {
   "display_name": "Python 2",
   "language": "python",
   "name": "python2"
  },
  "language_info": {
   "codemirror_mode": {
    "name": "ipython",
    "version": 2
   },
   "file_extension": ".py",
   "mimetype": "text/x-python",
   "name": "python",
   "nbconvert_exporter": "python",
   "pygments_lexer": "ipython2",
   "version": "2.7.12"
  }
 },
 "nbformat": 4,
 "nbformat_minor": 0
}
