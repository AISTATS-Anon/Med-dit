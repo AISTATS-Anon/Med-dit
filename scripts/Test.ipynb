{
 "cells": [
  {
   "cell_type": "code",
   "execution_count": 1,
   "metadata": {
    "collapsed": false
   },
   "outputs": [],
   "source": [
    "\n",
    "import numpy as np\n",
    "import pandas as pd\n",
    "import scipy.sparse as sp_sparse\n",
    "import tables, h5py\n",
    "import pickle, time\n",
    "from multiprocessing import Pool, Array, Process\n",
    "import ctypes as c\n",
    "import cProfile, os\n",
    "import logging, imp\n",
    "from PIL import Image\n",
    "import os,binascii, datetime\n",
    "import imp\n",
    "import helper\n",
    "from tensorflow.examples.tutorials.mnist import input_data\n",
    "logging.basicConfig(level=logging.DEBUG,format='(%(threadName)-10s) %(message)s',)\n",
    "import helper, data_loader\n"
   ]
  },
  {
   "cell_type": "code",
   "execution_count": 2,
   "metadata": {
    "collapsed": false
   },
   "outputs": [],
   "source": [
    "def sample_distances():\n",
    "    np.random.seed(0)\n",
    "    filepath = '../datasets/rnaseq/20k_2000_distances.npy'\n",
    "    if not os.path.isfile(filepath):\n",
    "        data = data_loader.load_rnaseq20k()\n",
    "        random_2000_arms = np.random.randint(data.shape[0], size=2000)\n",
    "        distance_matrix = helper.l1_dist(data, data[random_2000_arms])\n",
    "        np.save(filepath, distance_matrix )\n",
    "\n",
    "    filepath = '../datasets/rnaseq/100k_2000_distances.npy'\n",
    "    if not os.path.isfile(filepath):\n",
    "        data = data_loader.load_rnaseq100k()\n",
    "        random_2000_arms = np.random.randint(data.shape[0], size=2000)\n",
    "        distance_matrix = helper.l1_dist(data, data[random_2000_arms])\n",
    "        np.save(filepath, distance_matrix )\n",
    "    \n",
    "    "
   ]
  },
  {
   "cell_type": "code",
   "execution_count": null,
   "metadata": {
    "collapsed": false
   },
   "outputs": [],
   "source": [
    "sample_distances()"
   ]
  },
  {
   "cell_type": "code",
   "execution_count": null,
   "metadata": {
    "collapsed": true
   },
   "outputs": [],
   "source": []
  }
 ],
 "metadata": {
  "kernelspec": {
   "display_name": "Python 2",
   "language": "python",
   "name": "python2"
  },
  "language_info": {
   "codemirror_mode": {
    "name": "ipython",
    "version": 2
   },
   "file_extension": ".py",
   "mimetype": "text/x-python",
   "name": "python",
   "nbconvert_exporter": "python",
   "pygments_lexer": "ipython2",
   "version": "2.7.12"
  }
 },
 "nbformat": 4,
 "nbformat_minor": 0
}
